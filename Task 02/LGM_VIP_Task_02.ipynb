{
  "nbformat": 4,
  "nbformat_minor": 0,
  "metadata": {
    "colab": {
      "name": "LGM_VIP_Task_02.ipynb",
      "provenance": []
    },
    "kernelspec": {
      "display_name": "Python 3",
      "language": "python",
      "name": "python3"
    },
    "language_info": {
      "codemirror_mode": {
        "name": "ipython",
        "version": 3
      },
      "file_extension": ".py",
      "mimetype": "text/x-python",
      "name": "python",
      "nbconvert_exporter": "python",
      "pygments_lexer": "ipython3",
      "version": "3.6.5"
    }
  },
  "cells": [
    {
      "cell_type": "markdown",
      "metadata": {
        "id": "ezh-_Q_LWTEK"
      },
      "source": [
        "\n",
        "\n",
        "# <center><b>LetsGrowMore</b></center>  \n",
        "### <center>TASK 2: Stock Market Prediction And Forecasting Using Stacked LSTM</center>\n",
        "<font size=4><center>Author:M Deeksha</center></font>\n"
      ]
    },
    {
      "cell_type": "markdown",
      "metadata": {
        "id": "7KOWHJxCWTEa"
      },
      "source": [
        "# INTRODUCTION</h2>"
      ]
    },
    {
      "cell_type": "markdown",
      "metadata": {
        "id": "mT91kdSJWTEd"
      },
      "source": [
        "Stock values is very valuable but extremely hard to predict correctly for any human being on their own. This task seeks to solve the problem of Stock Prices Prediction by stacked Long-Short Term Memory (LSTM), to predict future stock values. "
      ]
    },
    {
      "cell_type": "markdown",
      "metadata": {
        "id": "kYO_0jEjWTEe"
      },
      "source": [
        "# IMPORT THE NECESSARY LIBRARIES</h2>"
      ]
    },
    {
      "cell_type": "code",
      "metadata": {
        "id": "9uJXV0w2WTEh"
      },
      "source": [
        "import numpy as np\n",
        "import matplotlib.pyplot as plt\n",
        "import pandas as pd"
      ],
      "execution_count": 1,
      "outputs": []
    },
    {
      "cell_type": "markdown",
      "metadata": {
        "id": "aOLlHUu4WTEl"
      },
      "source": [
        "# LOADING DATASET</h2>"
      ]
    },
    {
      "cell_type": "code",
      "metadata": {
        "id": "y1S9Nys7WTEo"
      },
      "source": [
        "url = 'https://raw.githubusercontent.com/mwitiderrick/stockprice/master/NSE-TATAGLOBAL.csv'\n",
        "dataset_train = pd.read_csv(url)\n",
        "training_set = dataset_train.iloc[:, 1:2].values"
      ],
      "execution_count": 2,
      "outputs": []
    },
    {
      "cell_type": "code",
      "metadata": {
        "colab": {
          "base_uri": "https://localhost:8080/",
          "height": 206
        },
        "id": "GctqzVnoWTEt",
        "outputId": "54d90b01-e5e7-4aee-e325-0748c8e306e8"
      },
      "source": [
        "dataset_train.head()"
      ],
      "execution_count": 3,
      "outputs": [
        {
          "output_type": "execute_result",
          "data": {
            "text/html": [
              "<div>\n",
              "<style scoped>\n",
              "    .dataframe tbody tr th:only-of-type {\n",
              "        vertical-align: middle;\n",
              "    }\n",
              "\n",
              "    .dataframe tbody tr th {\n",
              "        vertical-align: top;\n",
              "    }\n",
              "\n",
              "    .dataframe thead th {\n",
              "        text-align: right;\n",
              "    }\n",
              "</style>\n",
              "<table border=\"1\" class=\"dataframe\">\n",
              "  <thead>\n",
              "    <tr style=\"text-align: right;\">\n",
              "      <th></th>\n",
              "      <th>Date</th>\n",
              "      <th>Open</th>\n",
              "      <th>High</th>\n",
              "      <th>Low</th>\n",
              "      <th>Last</th>\n",
              "      <th>Close</th>\n",
              "      <th>Total Trade Quantity</th>\n",
              "      <th>Turnover (Lacs)</th>\n",
              "    </tr>\n",
              "  </thead>\n",
              "  <tbody>\n",
              "    <tr>\n",
              "      <th>0</th>\n",
              "      <td>2018-09-28</td>\n",
              "      <td>234.05</td>\n",
              "      <td>235.95</td>\n",
              "      <td>230.20</td>\n",
              "      <td>233.50</td>\n",
              "      <td>233.75</td>\n",
              "      <td>3069914</td>\n",
              "      <td>7162.35</td>\n",
              "    </tr>\n",
              "    <tr>\n",
              "      <th>1</th>\n",
              "      <td>2018-09-27</td>\n",
              "      <td>234.55</td>\n",
              "      <td>236.80</td>\n",
              "      <td>231.10</td>\n",
              "      <td>233.80</td>\n",
              "      <td>233.25</td>\n",
              "      <td>5082859</td>\n",
              "      <td>11859.95</td>\n",
              "    </tr>\n",
              "    <tr>\n",
              "      <th>2</th>\n",
              "      <td>2018-09-26</td>\n",
              "      <td>240.00</td>\n",
              "      <td>240.00</td>\n",
              "      <td>232.50</td>\n",
              "      <td>235.00</td>\n",
              "      <td>234.25</td>\n",
              "      <td>2240909</td>\n",
              "      <td>5248.60</td>\n",
              "    </tr>\n",
              "    <tr>\n",
              "      <th>3</th>\n",
              "      <td>2018-09-25</td>\n",
              "      <td>233.30</td>\n",
              "      <td>236.75</td>\n",
              "      <td>232.00</td>\n",
              "      <td>236.25</td>\n",
              "      <td>236.10</td>\n",
              "      <td>2349368</td>\n",
              "      <td>5503.90</td>\n",
              "    </tr>\n",
              "    <tr>\n",
              "      <th>4</th>\n",
              "      <td>2018-09-24</td>\n",
              "      <td>233.55</td>\n",
              "      <td>239.20</td>\n",
              "      <td>230.75</td>\n",
              "      <td>234.00</td>\n",
              "      <td>233.30</td>\n",
              "      <td>3423509</td>\n",
              "      <td>7999.55</td>\n",
              "    </tr>\n",
              "  </tbody>\n",
              "</table>\n",
              "</div>"
            ],
            "text/plain": [
              "         Date    Open    High  ...   Close  Total Trade Quantity  Turnover (Lacs)\n",
              "0  2018-09-28  234.05  235.95  ...  233.75               3069914          7162.35\n",
              "1  2018-09-27  234.55  236.80  ...  233.25               5082859         11859.95\n",
              "2  2018-09-26  240.00  240.00  ...  234.25               2240909          5248.60\n",
              "3  2018-09-25  233.30  236.75  ...  236.10               2349368          5503.90\n",
              "4  2018-09-24  233.55  239.20  ...  233.30               3423509          7999.55\n",
              "\n",
              "[5 rows x 8 columns]"
            ]
          },
          "metadata": {},
          "execution_count": 3
        }
      ]
    },
    {
      "cell_type": "code",
      "metadata": {
        "id": "JWejn7ztWTEx"
      },
      "source": [
        "data_close = dataset_train['Close']"
      ],
      "execution_count": 7,
      "outputs": []
    },
    {
      "cell_type": "code",
      "metadata": {
        "colab": {
          "base_uri": "https://localhost:8080/"
        },
        "id": "D44a2AYIWTEy",
        "outputId": "5bfe0bf4-724b-4e2c-aa90-069d922498b9"
      },
      "source": [
        "data_close"
      ],
      "execution_count": 8,
      "outputs": [
        {
          "output_type": "execute_result",
          "data": {
            "text/plain": [
              "0       233.75\n",
              "1       233.25\n",
              "2       234.25\n",
              "3       236.10\n",
              "4       233.30\n",
              "         ...  \n",
              "2030    118.65\n",
              "2031    117.60\n",
              "2032    120.65\n",
              "2033    120.90\n",
              "2034    121.55\n",
              "Name: Close, Length: 2035, dtype: float64"
            ]
          },
          "metadata": {},
          "execution_count": 8
        }
      ]
    },
    {
      "cell_type": "code",
      "metadata": {
        "colab": {
          "base_uri": "https://localhost:8080/",
          "height": 282
        },
        "id": "xOOhSj29WTEz",
        "outputId": "acc6b0e4-2b88-4254-8931-3933c52ec40c"
      },
      "source": [
        "plt.plot(data_close)"
      ],
      "execution_count": 9,
      "outputs": [
        {
          "output_type": "execute_result",
          "data": {
            "text/plain": [
              "[<matplotlib.lines.Line2D at 0x7f7a4b290fd0>]"
            ]
          },
          "metadata": {},
          "execution_count": 9
        },
        {
          "output_type": "display_data",
          "data": {
            "image/png": "[encoded data removed]",
            "text/plain": [
              "<Figure size 432x288 with 1 Axes>"
            ]
          },
          "metadata": {
            "needs_background": "light"
          }
        }
      ]
    },
    {
      "cell_type": "markdown",
      "metadata": {
        "id": "FLUaFuF_WTE1"
      },
      "source": [
        "Since LSTM are sensitive to the scale of the data, so we apply MinMax Scaler to transform our values between 0 and 1"
      ]
    },
    {
      "cell_type": "markdown",
      "metadata": {
        "id": "cePKKI9uWTE2"
      },
      "source": [
        "# PRE-PROCESSING</h2>"
      ]
    },
    {
      "cell_type": "markdown",
      "metadata": {
        "id": "LQpFSRQHWTE2"
      },
      "source": [
        "**Data Normalization**"
      ]
    },
    {
      "cell_type": "code",
      "metadata": {
        "id": "ExM9QM0MWTE3"
      },
      "source": [
        "from sklearn.preprocessing import MinMaxScaler\n",
        "scaler = MinMaxScaler(feature_range = (0,1))\n",
        "data_close = scaler.fit_transform(np.array(data_close).reshape(-1,1))"
      ],
      "execution_count": 10,
      "outputs": []
    },
    {
      "cell_type": "code",
      "metadata": {
        "colab": {
          "base_uri": "https://localhost:8080/"
        },
        "id": "K-y2w--VWTE3",
        "outputId": "aced0f0b-7301-4b0e-b5c3-0e5ff72cea8f"
      },
      "source": [
        "data_close.shape"
      ],
      "execution_count": 11,
      "outputs": [
        {
          "output_type": "execute_result",
          "data": {
            "text/plain": [
              "(2035, 1)"
            ]
          },
          "metadata": {},
          "execution_count": 11
        }
      ]
    },
    {
      "cell_type": "code",
      "metadata": {
        "colab": {
          "base_uri": "https://localhost:8080/"
        },
        "id": "LXM39rWLWTE4",
        "outputId": "5a733469-592f-4b11-941b-a37239543cb6"
      },
      "source": [
        "print(data_close)"
      ],
      "execution_count": 12,
      "outputs": [
        {
          "output_type": "stream",
          "name": "stdout",
          "text": [
            "[[0.62418301]\n",
            " [0.62214052]\n",
            " [0.62622549]\n",
            " ...\n",
            " [0.1621732 ]\n",
            " [0.16319444]\n",
            " [0.16584967]]\n"
          ]
        }
      ]
    },
    {
      "cell_type": "markdown",
      "metadata": {
        "id": "N5xyHgsRWTE5"
      },
      "source": [
        "**Splitting the dataset into Train and Test sets**"
      ]
    },
    {
      "cell_type": "code",
      "metadata": {
        "id": "GURqo9r4WTE5"
      },
      "source": [
        "training_size = int(len(data_close) * 0.75)\n",
        "test_size = len(data_close) - training_size\n",
        "train_data, test_data = data_close[0:training_size,:], data_close[training_size:len(data_close),:1]"
      ],
      "execution_count": 13,
      "outputs": []
    },
    {
      "cell_type": "code",
      "metadata": {
        "id": "OtWyIouEWTE6"
      },
      "source": [
        "def create_dataset(dataset, time_step = 1):\n",
        "    dataX, dataY = [], []\n",
        "    for i in range(len(dataset) - time_step - 1):\n",
        "        a = dataset[i:(i+time_step), 0]\n",
        "        dataX.append(a)\n",
        "        dataY.append(dataset[i+time_step, 0])\n",
        "    return np.array(dataX), np.array(dataY)"
      ],
      "execution_count": 14,
      "outputs": []
    },
    {
      "cell_type": "code",
      "metadata": {
        "id": "ZMSAS7P4WTE7"
      },
      "source": [
        "time_step = 100\n",
        "x_train, y_train = create_dataset(train_data, time_step)\n",
        "x_test, y_test = create_dataset(test_data, time_step)"
      ],
      "execution_count": 15,
      "outputs": []
    },
    {
      "cell_type": "code",
      "metadata": {
        "id": "1-cSTlGgWTE8"
      },
      "source": [
        "#Reshape the input to be [samples, time steps, features] which is the requirement of LSTM\n",
        "x_train = x_train.reshape(x_train.shape[0], x_train.shape[1], 1)\n",
        "x_test = x_test.reshape(x_test.shape[0], x_test.shape[1], 1)"
      ],
      "execution_count": 16,
      "outputs": []
    },
    {
      "cell_type": "markdown",
      "metadata": {
        "id": "HtBt3aUZWTE9"
      },
      "source": [
        "# MODEL BUILDING</h2>"
      ]
    },
    {
      "cell_type": "code",
      "metadata": {
        "id": "QtKXMxGdDJVR"
      },
      "source": [
        "#pip install keras"
      ],
      "execution_count": 17,
      "outputs": []
    },
    {
      "cell_type": "code",
      "metadata": {
        "id": "k2tHduovWTE9"
      },
      "source": [
        "#Create the LSTM Model\n",
        "from keras.models import Sequential\n",
        "from keras.layers import LSTM\n",
        "from keras.layers import Dropout\n",
        "from keras.layers import Dense\n",
        "model = Sequential()\n",
        "model.add(LSTM(50, return_sequences = True, input_shape = (100,1)))\n",
        "model.add(LSTM(50, return_sequences = True))\n",
        "model.add(LSTM(50))\n",
        "model.add(Dense(1))\n",
        "model.compile(loss = 'mean_squared_error', optimizer = 'adam')"
      ],
      "execution_count": 18,
      "outputs": []
    },
    {
      "cell_type": "code",
      "metadata": {
        "colab": {
          "base_uri": "https://localhost:8080/"
        },
        "id": "Cpd8rBoIWTE-",
        "outputId": "64ef3c90-3e45-4af4-e012-a3fa921291de"
      },
      "source": [
        "model.summary()"
      ],
      "execution_count": 19,
      "outputs": [
        {
          "output_type": "stream",
          "name": "stdout",
          "text": [
            "Model: \"sequential\"\n",
            "_________________________________________________________________\n",
            "Layer (type)                 Output Shape              Param #   \n",
            "=================================================================\n",
            "lstm (LSTM)                  (None, 100, 50)           10400     \n",
            "_________________________________________________________________\n",
            "lstm_1 (LSTM)                (None, 100, 50)           20200     \n",
            "_________________________________________________________________\n",
            "lstm_2 (LSTM)                (None, 50)                20200     \n",
            "_________________________________________________________________\n",
            "dense (Dense)                (None, 1)                 51        \n",
            "=================================================================\n",
            "Total params: 50,851\n",
            "Trainable params: 50,851\n",
            "Non-trainable params: 0\n",
            "_________________________________________________________________\n"
          ]
        }
      ]
    },
    {
      "cell_type": "code",
      "metadata": {
        "colab": {
          "base_uri": "https://localhost:8080/"
        },
        "id": "n2Y9SDBsWTE_",
        "outputId": "0e09d758-6749-452e-cdcb-e559836fe3e8"
      },
      "source": [
        "model.summary()"
      ],
      "execution_count": 20,
      "outputs": [
        {
          "output_type": "stream",
          "name": "stdout",
          "text": [
            "Model: \"sequential\"\n",
            "_________________________________________________________________\n",
            "Layer (type)                 Output Shape              Param #   \n",
            "=================================================================\n",
            "lstm (LSTM)                  (None, 100, 50)           10400     \n",
            "_________________________________________________________________\n",
            "lstm_1 (LSTM)                (None, 100, 50)           20200     \n",
            "_________________________________________________________________\n",
            "lstm_2 (LSTM)                (None, 50)                20200     \n",
            "_________________________________________________________________\n",
            "dense (Dense)                (None, 1)                 51        \n",
            "=================================================================\n",
            "Total params: 50,851\n",
            "Trainable params: 50,851\n",
            "Non-trainable params: 0\n",
            "_________________________________________________________________\n"
          ]
        }
      ]
    },
    {
      "cell_type": "code",
      "metadata": {
        "colab": {
          "base_uri": "https://localhost:8080/"
        },
        "id": "AmnGQaSlWTFA",
        "scrolled": true,
        "outputId": "c87a8f74-2211-45a4-d29e-b3ba2b7a96a8"
      },
      "source": [
        "model.fit(x_train, y_train, validation_data = (x_test, y_test), epochs = 100, batch_size = 64, verbose = 1)"
      ],
      "execution_count": 21,
      "outputs": [
        {
          "output_type": "stream",
          "name": "stdout",
          "text": [
            "Epoch 1/100\n",
            "23/23 [==============================] - 10s 236ms/step - loss: 0.0301 - val_loss: 0.0064\n",
            "Epoch 2/100\n",
            "23/23 [==============================] - 4s 188ms/step - loss: 0.0025 - val_loss: 0.0011\n",
            "Epoch 3/100\n",
            "23/23 [==============================] - 4s 192ms/step - loss: 0.0014 - val_loss: 0.0015\n",
            "Epoch 4/100\n",
            "23/23 [==============================] - 4s 185ms/step - loss: 0.0013 - val_loss: 0.0013\n",
            "Epoch 5/100\n",
            "23/23 [==============================] - 4s 186ms/step - loss: 0.0013 - val_loss: 0.0011\n",
            "Epoch 6/100\n",
            "23/23 [==============================] - 4s 186ms/step - loss: 0.0013 - val_loss: 0.0013\n",
            "Epoch 7/100\n",
            "23/23 [==============================] - 4s 189ms/step - loss: 0.0012 - val_loss: 9.0546e-04\n",
            "Epoch 8/100\n",
            "23/23 [==============================] - 5s 235ms/step - loss: 0.0012 - val_loss: 0.0012\n",
            "Epoch 9/100\n",
            "23/23 [==============================] - 4s 187ms/step - loss: 0.0013 - val_loss: 8.8358e-04\n",
            "Epoch 10/100\n",
            "23/23 [==============================] - 4s 188ms/step - loss: 0.0011 - val_loss: 0.0012\n",
            "Epoch 11/100\n",
            "23/23 [==============================] - 4s 186ms/step - loss: 0.0010 - val_loss: 0.0011\n",
            "Epoch 12/100\n",
            "23/23 [==============================] - 4s 191ms/step - loss: 0.0012 - val_loss: 7.9667e-04\n",
            "Epoch 13/100\n",
            "23/23 [==============================] - 4s 187ms/step - loss: 9.6721e-04 - val_loss: 8.7096e-04\n",
            "Epoch 14/100\n",
            "23/23 [==============================] - 4s 190ms/step - loss: 9.2824e-04 - val_loss: 7.4249e-04\n",
            "Epoch 15/100\n",
            "23/23 [==============================] - 4s 189ms/step - loss: 9.0029e-04 - val_loss: 8.2182e-04\n",
            "Epoch 16/100\n",
            "23/23 [==============================] - 4s 188ms/step - loss: 8.2507e-04 - val_loss: 7.3651e-04\n",
            "Epoch 17/100\n",
            "23/23 [==============================] - 4s 190ms/step - loss: 8.0484e-04 - val_loss: 9.5089e-04\n",
            "Epoch 18/100\n",
            "23/23 [==============================] - 4s 186ms/step - loss: 8.1118e-04 - val_loss: 8.6726e-04\n",
            "Epoch 19/100\n",
            "23/23 [==============================] - 4s 185ms/step - loss: 8.3287e-04 - val_loss: 7.9489e-04\n",
            "Epoch 20/100\n",
            "23/23 [==============================] - 4s 191ms/step - loss: 7.8387e-04 - val_loss: 9.1882e-04\n",
            "Epoch 21/100\n",
            "23/23 [==============================] - 4s 190ms/step - loss: 8.6520e-04 - val_loss: 8.1452e-04\n",
            "Epoch 22/100\n",
            "23/23 [==============================] - 4s 192ms/step - loss: 7.6878e-04 - val_loss: 0.0011\n",
            "Epoch 23/100\n",
            "23/23 [==============================] - 4s 189ms/step - loss: 7.1282e-04 - val_loss: 7.1287e-04\n",
            "Epoch 24/100\n",
            "23/23 [==============================] - 4s 188ms/step - loss: 6.9118e-04 - val_loss: 8.0067e-04\n",
            "Epoch 25/100\n",
            "23/23 [==============================] - 4s 191ms/step - loss: 7.0141e-04 - val_loss: 9.0972e-04\n",
            "Epoch 26/100\n",
            "23/23 [==============================] - 4s 186ms/step - loss: 6.7873e-04 - val_loss: 9.3474e-04\n",
            "Epoch 27/100\n",
            "23/23 [==============================] - 4s 190ms/step - loss: 6.5720e-04 - val_loss: 8.7180e-04\n",
            "Epoch 28/100\n",
            "23/23 [==============================] - 4s 188ms/step - loss: 6.6245e-04 - val_loss: 8.6630e-04\n",
            "Epoch 29/100\n",
            "23/23 [==============================] - 4s 189ms/step - loss: 6.8051e-04 - val_loss: 6.4809e-04\n",
            "Epoch 30/100\n",
            "23/23 [==============================] - 4s 189ms/step - loss: 6.5347e-04 - val_loss: 5.7518e-04\n",
            "Epoch 31/100\n",
            "23/23 [==============================] - 4s 188ms/step - loss: 6.6377e-04 - val_loss: 8.9023e-04\n",
            "Epoch 32/100\n",
            "23/23 [==============================] - 4s 186ms/step - loss: 5.8553e-04 - val_loss: 8.2854e-04\n",
            "Epoch 33/100\n",
            "23/23 [==============================] - 4s 187ms/step - loss: 6.8615e-04 - val_loss: 9.2500e-04\n",
            "Epoch 34/100\n",
            "23/23 [==============================] - 4s 186ms/step - loss: 6.0734e-04 - val_loss: 7.5273e-04\n",
            "Epoch 35/100\n",
            "23/23 [==============================] - 4s 188ms/step - loss: 5.7996e-04 - val_loss: 8.0898e-04\n",
            "Epoch 36/100\n",
            "23/23 [==============================] - 4s 189ms/step - loss: 5.6458e-04 - val_loss: 8.5102e-04\n",
            "Epoch 37/100\n",
            "23/23 [==============================] - 4s 188ms/step - loss: 5.5798e-04 - val_loss: 7.5992e-04\n",
            "Epoch 38/100\n",
            "23/23 [==============================] - 4s 190ms/step - loss: 5.4897e-04 - val_loss: 5.4533e-04\n",
            "Epoch 39/100\n",
            "23/23 [==============================] - 4s 190ms/step - loss: 5.9696e-04 - val_loss: 6.8989e-04\n",
            "Epoch 40/100\n",
            "23/23 [==============================] - 4s 187ms/step - loss: 6.0202e-04 - val_loss: 5.7679e-04\n",
            "Epoch 41/100\n",
            "23/23 [==============================] - 4s 186ms/step - loss: 6.4347e-04 - val_loss: 6.9247e-04\n",
            "Epoch 42/100\n",
            "23/23 [==============================] - 4s 188ms/step - loss: 5.6499e-04 - val_loss: 8.0286e-04\n",
            "Epoch 43/100\n",
            "23/23 [==============================] - 4s 190ms/step - loss: 5.4405e-04 - val_loss: 9.0188e-04\n",
            "Epoch 44/100\n",
            "23/23 [==============================] - 4s 188ms/step - loss: 5.0974e-04 - val_loss: 7.3393e-04\n",
            "Epoch 45/100\n",
            "23/23 [==============================] - 4s 190ms/step - loss: 5.3211e-04 - val_loss: 5.8683e-04\n",
            "Epoch 46/100\n",
            "23/23 [==============================] - 4s 189ms/step - loss: 5.1083e-04 - val_loss: 4.9763e-04\n",
            "Epoch 47/100\n",
            "23/23 [==============================] - 4s 186ms/step - loss: 4.6847e-04 - val_loss: 4.8536e-04\n",
            "Epoch 48/100\n",
            "23/23 [==============================] - 4s 187ms/step - loss: 4.6272e-04 - val_loss: 6.2435e-04\n",
            "Epoch 49/100\n",
            "23/23 [==============================] - 4s 187ms/step - loss: 4.4275e-04 - val_loss: 7.4024e-04\n",
            "Epoch 50/100\n",
            "23/23 [==============================] - 4s 189ms/step - loss: 4.8505e-04 - val_loss: 5.8222e-04\n",
            "Epoch 51/100\n",
            "23/23 [==============================] - 4s 188ms/step - loss: 4.3435e-04 - val_loss: 4.6917e-04\n",
            "Epoch 52/100\n",
            "23/23 [==============================] - 4s 189ms/step - loss: 4.4892e-04 - val_loss: 3.9698e-04\n",
            "Epoch 53/100\n",
            "23/23 [==============================] - 4s 188ms/step - loss: 4.5993e-04 - val_loss: 5.7366e-04\n",
            "Epoch 54/100\n",
            "23/23 [==============================] - 4s 189ms/step - loss: 4.0264e-04 - val_loss: 5.6649e-04\n",
            "Epoch 55/100\n",
            "23/23 [==============================] - 4s 187ms/step - loss: 4.9036e-04 - val_loss: 3.9533e-04\n",
            "Epoch 56/100\n",
            "23/23 [==============================] - 4s 188ms/step - loss: 4.3500e-04 - val_loss: 5.7393e-04\n",
            "Epoch 57/100\n",
            "23/23 [==============================] - 4s 191ms/step - loss: 3.8683e-04 - val_loss: 5.2152e-04\n",
            "Epoch 58/100\n",
            "23/23 [==============================] - 4s 188ms/step - loss: 4.0910e-04 - val_loss: 5.3363e-04\n",
            "Epoch 59/100\n",
            "23/23 [==============================] - 4s 189ms/step - loss: 3.7612e-04 - val_loss: 4.3240e-04\n",
            "Epoch 60/100\n",
            "23/23 [==============================] - 4s 192ms/step - loss: 3.6016e-04 - val_loss: 3.7782e-04\n",
            "Epoch 61/100\n",
            "23/23 [==============================] - 4s 190ms/step - loss: 3.8133e-04 - val_loss: 4.0527e-04\n",
            "Epoch 62/100\n",
            "23/23 [==============================] - 4s 188ms/step - loss: 3.8303e-04 - val_loss: 6.1346e-04\n",
            "Epoch 63/100\n",
            "23/23 [==============================] - 4s 188ms/step - loss: 3.6716e-04 - val_loss: 4.0520e-04\n",
            "Epoch 64/100\n",
            "23/23 [==============================] - 4s 188ms/step - loss: 3.2321e-04 - val_loss: 3.0459e-04\n",
            "Epoch 65/100\n",
            "23/23 [==============================] - 4s 187ms/step - loss: 3.1220e-04 - val_loss: 2.7824e-04\n",
            "Epoch 66/100\n",
            "23/23 [==============================] - 4s 190ms/step - loss: 3.2127e-04 - val_loss: 2.7987e-04\n",
            "Epoch 67/100\n",
            "23/23 [==============================] - 4s 188ms/step - loss: 4.5577e-04 - val_loss: 3.9186e-04\n",
            "Epoch 68/100\n",
            "23/23 [==============================] - 4s 189ms/step - loss: 3.0768e-04 - val_loss: 3.9876e-04\n",
            "Epoch 69/100\n",
            "23/23 [==============================] - 4s 191ms/step - loss: 3.1238e-04 - val_loss: 3.8696e-04\n",
            "Epoch 70/100\n",
            "23/23 [==============================] - 4s 192ms/step - loss: 2.8297e-04 - val_loss: 3.9751e-04\n",
            "Epoch 71/100\n",
            "23/23 [==============================] - 4s 192ms/step - loss: 2.8135e-04 - val_loss: 3.4620e-04\n",
            "Epoch 72/100\n",
            "23/23 [==============================] - 4s 189ms/step - loss: 3.5266e-04 - val_loss: 2.5988e-04\n",
            "Epoch 73/100\n",
            "23/23 [==============================] - 4s 188ms/step - loss: 3.2634e-04 - val_loss: 3.6959e-04\n",
            "Epoch 74/100\n",
            "23/23 [==============================] - 4s 189ms/step - loss: 2.6215e-04 - val_loss: 3.8160e-04\n",
            "Epoch 75/100\n",
            "23/23 [==============================] - 4s 189ms/step - loss: 2.5936e-04 - val_loss: 2.8629e-04\n",
            "Epoch 76/100\n",
            "23/23 [==============================] - 4s 195ms/step - loss: 2.7233e-04 - val_loss: 3.0051e-04\n",
            "Epoch 77/100\n",
            "23/23 [==============================] - 4s 190ms/step - loss: 2.8426e-04 - val_loss: 3.3865e-04\n",
            "Epoch 78/100\n",
            "23/23 [==============================] - 4s 189ms/step - loss: 2.4708e-04 - val_loss: 2.3955e-04\n",
            "Epoch 79/100\n",
            "23/23 [==============================] - 4s 189ms/step - loss: 2.8051e-04 - val_loss: 2.7955e-04\n",
            "Epoch 80/100\n",
            "23/23 [==============================] - 4s 191ms/step - loss: 2.8306e-04 - val_loss: 2.8553e-04\n",
            "Epoch 81/100\n",
            "23/23 [==============================] - 4s 191ms/step - loss: 2.4708e-04 - val_loss: 2.5136e-04\n",
            "Epoch 82/100\n",
            "23/23 [==============================] - 4s 191ms/step - loss: 2.3222e-04 - val_loss: 3.0642e-04\n",
            "Epoch 83/100\n",
            "23/23 [==============================] - 4s 190ms/step - loss: 2.5957e-04 - val_loss: 2.0720e-04\n",
            "Epoch 84/100\n",
            "23/23 [==============================] - 4s 192ms/step - loss: 2.7375e-04 - val_loss: 3.3547e-04\n",
            "Epoch 85/100\n",
            "23/23 [==============================] - 4s 189ms/step - loss: 2.8826e-04 - val_loss: 2.5244e-04\n",
            "Epoch 86/100\n",
            "23/23 [==============================] - 4s 189ms/step - loss: 2.5777e-04 - val_loss: 2.9657e-04\n",
            "Epoch 87/100\n",
            "23/23 [==============================] - 4s 189ms/step - loss: 2.2177e-04 - val_loss: 3.0091e-04\n",
            "Epoch 88/100\n",
            "23/23 [==============================] - 4s 188ms/step - loss: 2.2683e-04 - val_loss: 2.0712e-04\n",
            "Epoch 89/100\n",
            "23/23 [==============================] - 4s 189ms/step - loss: 2.1842e-04 - val_loss: 2.0390e-04\n",
            "Epoch 90/100\n",
            "23/23 [==============================] - 4s 189ms/step - loss: 2.2262e-04 - val_loss: 1.7595e-04\n",
            "Epoch 91/100\n",
            "23/23 [==============================] - 4s 189ms/step - loss: 2.2132e-04 - val_loss: 1.7074e-04\n",
            "Epoch 92/100\n",
            "23/23 [==============================] - 4s 189ms/step - loss: 2.5176e-04 - val_loss: 3.3058e-04\n",
            "Epoch 93/100\n",
            "23/23 [==============================] - 4s 188ms/step - loss: 2.4683e-04 - val_loss: 2.3240e-04\n",
            "Epoch 94/100\n",
            "23/23 [==============================] - 4s 190ms/step - loss: 2.4954e-04 - val_loss: 2.5272e-04\n",
            "Epoch 95/100\n",
            "23/23 [==============================] - 4s 186ms/step - loss: 2.2124e-04 - val_loss: 2.7485e-04\n",
            "Epoch 96/100\n",
            "23/23 [==============================] - 4s 189ms/step - loss: 2.0394e-04 - val_loss: 2.1304e-04\n",
            "Epoch 97/100\n",
            "23/23 [==============================] - 4s 187ms/step - loss: 2.4060e-04 - val_loss: 3.0215e-04\n",
            "Epoch 98/100\n",
            "23/23 [==============================] - 4s 192ms/step - loss: 2.9977e-04 - val_loss: 1.6979e-04\n",
            "Epoch 99/100\n",
            "23/23 [==============================] - 4s 194ms/step - loss: 2.7993e-04 - val_loss: 2.5970e-04\n",
            "Epoch 100/100\n",
            "23/23 [==============================] - 4s 190ms/step - loss: 2.9537e-04 - val_loss: 2.9026e-04\n"
          ]
        },
        {
          "output_type": "execute_result",
          "data": {
            "text/plain": [
              "<keras.callbacks.History at 0x7f79f737ab10>"
            ]
          },
          "metadata": {},
          "execution_count": 21
        }
      ]
    },
    {
      "cell_type": "code",
      "metadata": {
        "id": "-Pb9oyTXWTFA"
      },
      "source": [
        "#Lets predict and check performance metrics\n",
        "train_predict = model.predict(x_train)\n",
        "test_predict = model.predict(x_test)"
      ],
      "execution_count": 22,
      "outputs": []
    },
    {
      "cell_type": "code",
      "metadata": {
        "id": "GHaInWVRWTFA"
      },
      "source": [
        "#Transform back to original form\n",
        "train_predict = scaler.inverse_transform(train_predict)\n",
        "test_predict = scaler.inverse_transform(test_predict)"
      ],
      "execution_count": 23,
      "outputs": []
    },
    {
      "cell_type": "code",
      "metadata": {
        "id": "sbywxI5YWTFB",
        "colab": {
          "base_uri": "https://localhost:8080/"
        },
        "outputId": "7405120e-778f-41e9-cd66-0d30c58c3e04"
      },
      "source": [
        "#Calculate RMSE performance metrics\n",
        "import math\n",
        "from sklearn.metrics import mean_squared_error\n",
        "math.sqrt(mean_squared_error(y_train, train_predict))"
      ],
      "execution_count": 24,
      "outputs": [
        {
          "output_type": "execute_result",
          "data": {
            "text/plain": [
              "166.37132778183337"
            ]
          },
          "metadata": {},
          "execution_count": 24
        }
      ]
    },
    {
      "cell_type": "code",
      "metadata": {
        "id": "uD1spRohWTFC",
        "colab": {
          "base_uri": "https://localhost:8080/"
        },
        "outputId": "558245ad-5a78-44e9-f88a-b4a80b482e64"
      },
      "source": [
        "#Test Data RMSE\n",
        "math.sqrt(mean_squared_error(y_test, test_predict))"
      ],
      "execution_count": 25,
      "outputs": [
        {
          "output_type": "execute_result",
          "data": {
            "text/plain": [
              "107.16724713502447"
            ]
          },
          "metadata": {},
          "execution_count": 25
        }
      ]
    },
    {
      "cell_type": "code",
      "metadata": {
        "id": "1eYDhgeBWTFC",
        "colab": {
          "base_uri": "https://localhost:8080/",
          "height": 265
        },
        "outputId": "a80f5ed6-fe0b-473f-f58d-3d7d4821c12e"
      },
      "source": [
        "#Plotting\n",
        "\n",
        "#Shift train prediction for plotting\n",
        "look_back = 100\n",
        "trainPredictPlot = np.empty_like(data_close)\n",
        "trainPredictPlot[:,:] = np.nan\n",
        "trainPredictPlot[look_back:len(train_predict) + look_back, :] = train_predict\n",
        "\n",
        "#Shift test prediction for plotting\n",
        "testPredictPlot = np.empty_like(data_close)\n",
        "testPredictPlot[:,:] = np.nan\n",
        "testPredictPlot[len(train_predict) + (look_back * 2)+1:len(data_close) - 1, :] = test_predict\n",
        "\n",
        "#Plot baseline and predictions\n",
        "plt.plot(scaler.inverse_transform(data_close))\n",
        "plt.plot(trainPredictPlot)\n",
        "plt.plot(testPredictPlot)\n",
        "plt.show()"
      ],
      "execution_count": 26,
      "outputs": [
        {
          "output_type": "display_data",
          "data": {
            "image/png": "[encoded data removed]",
            "text/plain": [
              "<Figure size 432x288 with 1 Axes>"
            ]
          },
          "metadata": {
            "needs_background": "light"
          }
        }
      ]
    },
    {
      "cell_type": "markdown",
      "metadata": {
        "id": "Vh2I8eptWTFD"
      },
      "source": [
        "# Predict the next 30 days Stock Price</h2>"
      ]
    },
    {
      "cell_type": "code",
      "metadata": {
        "id": "YVcTU8PyWTFD",
        "colab": {
          "base_uri": "https://localhost:8080/"
        },
        "outputId": "058b5a6e-f13f-43a0-8a0b-df70ba0e8042"
      },
      "source": [
        "len(test_data), x_test.shape"
      ],
      "execution_count": 27,
      "outputs": [
        {
          "output_type": "execute_result",
          "data": {
            "text/plain": [
              "(509, (408, 100, 1))"
            ]
          },
          "metadata": {},
          "execution_count": 27
        }
      ]
    },
    {
      "cell_type": "code",
      "metadata": {
        "id": "FOAgXtBGWTFD",
        "colab": {
          "base_uri": "https://localhost:8080/"
        },
        "outputId": "ee61dad0-7983-44ec-f66a-e30f15c580b6"
      },
      "source": [
        "x_input = test_data[409:].reshape(1,-1)\n",
        "x_input.shape"
      ],
      "execution_count": 28,
      "outputs": [
        {
          "output_type": "execute_result",
          "data": {
            "text/plain": [
              "(1, 100)"
            ]
          },
          "metadata": {},
          "execution_count": 28
        }
      ]
    },
    {
      "cell_type": "code",
      "metadata": {
        "id": "QjAxqvRHWTFE"
      },
      "source": [
        "temp_input = list(x_input)\n",
        "temp_input = temp_input[0].tolist()"
      ],
      "execution_count": 29,
      "outputs": []
    },
    {
      "cell_type": "code",
      "metadata": {
        "id": "mQG79W6bWTFE",
        "scrolled": true,
        "colab": {
          "base_uri": "https://localhost:8080/"
        },
        "outputId": "9370b62b-c0d6-4573-c8d1-bff939bdccde"
      },
      "source": [
        "lst_output=[]\n",
        "n_steps=100\n",
        "nextNumberOfDays = 30\n",
        "i=0\n",
        "\n",
        "while(i<nextNumberOfDays):\n",
        "    \n",
        "    if(len(temp_input)>100):\n",
        "        x_input=np.array(temp_input[1:])\n",
        "        print(\"{} day input {}\".format(i,x_input))\n",
        "        x_input=x_input.reshape(1,-1)\n",
        "        x_input = x_input.reshape((1, n_steps, 1))\n",
        "        yhat = model.predict(x_input, verbose=0)\n",
        "        print(\"{} day output {}\".format(i,yhat))\n",
        "        temp_input.extend(yhat[0].tolist())\n",
        "        temp_input=temp_input[1:]\n",
        "        lst_output.extend(yhat.tolist())\n",
        "        i=i+1\n",
        "    else:\n",
        "        x_input = x_input.reshape((1, n_steps,1))\n",
        "        yhat = model.predict(x_input, verbose=0)\n",
        "        print(yhat[0])\n",
        "        temp_input.extend(yhat[0].tolist())\n",
        "        print(len(temp_input))\n",
        "        lst_output.extend(yhat.tolist())\n",
        "        i=i+1\n",
        "    \n",
        "\n",
        "print(lst_output)"
      ],
      "execution_count": 30,
      "outputs": [
        {
          "output_type": "stream",
          "name": "stdout",
          "text": [
            "[0.1719926]\n",
            "101\n",
            "1 day input [0.13848039 0.14011438 0.13888889 0.13541667 0.14011438 0.1380719\n",
            " 0.13071895 0.13071895 0.12867647 0.11846405 0.14644608 0.14808007\n",
            " 0.15910948 0.15992647 0.15788399 0.16441993 0.17892157 0.17933007\n",
            " 0.19260621 0.20812908 0.18974673 0.18055556 0.18239379 0.17708333\n",
            " 0.17810458 0.18055556 0.17810458 0.17851307 0.19607843 0.18913399\n",
            " 0.18954248 0.19403595 0.19444444 0.20200163 0.19771242 0.19934641\n",
            " 0.19873366 0.1997549  0.2128268  0.21568627 0.20445261 0.21772876\n",
            " 0.21098856 0.21425654 0.19750817 0.18811275 0.17851307 0.17381536\n",
            " 0.16033497 0.16564542 0.17116013 0.17422386 0.18035131 0.17401961\n",
            " 0.16278595 0.16973039 0.17810458 0.17034314 0.16830065 0.17279412\n",
            " 0.17544935 0.18382353 0.19138072 0.18913399 0.19097222 0.17238562\n",
            " 0.16830065 0.1693219  0.17177288 0.16156046 0.14971405 0.1503268\n",
            " 0.15196078 0.14726307 0.14501634 0.14603758 0.12479575 0.13112745\n",
            " 0.11397059 0.1190768  0.12377451 0.13562092 0.12908497 0.13459967\n",
            " 0.12806373 0.13031046 0.12724673 0.13521242 0.14522059 0.15257353\n",
            " 0.14848856 0.14338235 0.14562908 0.15236928 0.15400327 0.14971405\n",
            " 0.1621732  0.16319444 0.16584967 0.1719926 ]\n",
            "1 day output [[0.17619126]]\n",
            "2 day input [0.14011438 0.13888889 0.13541667 0.14011438 0.1380719  0.13071895\n",
            " 0.13071895 0.12867647 0.11846405 0.14644608 0.14808007 0.15910948\n",
            " 0.15992647 0.15788399 0.16441993 0.17892157 0.17933007 0.19260621\n",
            " 0.20812908 0.18974673 0.18055556 0.18239379 0.17708333 0.17810458\n",
            " 0.18055556 0.17810458 0.17851307 0.19607843 0.18913399 0.18954248\n",
            " 0.19403595 0.19444444 0.20200163 0.19771242 0.19934641 0.19873366\n",
            " 0.1997549  0.2128268  0.21568627 0.20445261 0.21772876 0.21098856\n",
            " 0.21425654 0.19750817 0.18811275 0.17851307 0.17381536 0.16033497\n",
            " 0.16564542 0.17116013 0.17422386 0.18035131 0.17401961 0.16278595\n",
            " 0.16973039 0.17810458 0.17034314 0.16830065 0.17279412 0.17544935\n",
            " 0.18382353 0.19138072 0.18913399 0.19097222 0.17238562 0.16830065\n",
            " 0.1693219  0.17177288 0.16156046 0.14971405 0.1503268  0.15196078\n",
            " 0.14726307 0.14501634 0.14603758 0.12479575 0.13112745 0.11397059\n",
            " 0.1190768  0.12377451 0.13562092 0.12908497 0.13459967 0.12806373\n",
            " 0.13031046 0.12724673 0.13521242 0.14522059 0.15257353 0.14848856\n",
            " 0.14338235 0.14562908 0.15236928 0.15400327 0.14971405 0.1621732\n",
            " 0.16319444 0.16584967 0.1719926  0.17619126]\n",
            "2 day output [[0.1805636]]\n",
            "3 day input [0.13888889 0.13541667 0.14011438 0.1380719  0.13071895 0.13071895\n",
            " 0.12867647 0.11846405 0.14644608 0.14808007 0.15910948 0.15992647\n",
            " 0.15788399 0.16441993 0.17892157 0.17933007 0.19260621 0.20812908\n",
            " 0.18974673 0.18055556 0.18239379 0.17708333 0.17810458 0.18055556\n",
            " 0.17810458 0.17851307 0.19607843 0.18913399 0.18954248 0.19403595\n",
            " 0.19444444 0.20200163 0.19771242 0.19934641 0.19873366 0.1997549\n",
            " 0.2128268  0.21568627 0.20445261 0.21772876 0.21098856 0.21425654\n",
            " 0.19750817 0.18811275 0.17851307 0.17381536 0.16033497 0.16564542\n",
            " 0.17116013 0.17422386 0.18035131 0.17401961 0.16278595 0.16973039\n",
            " 0.17810458 0.17034314 0.16830065 0.17279412 0.17544935 0.18382353\n",
            " 0.19138072 0.18913399 0.19097222 0.17238562 0.16830065 0.1693219\n",
            " 0.17177288 0.16156046 0.14971405 0.1503268  0.15196078 0.14726307\n",
            " 0.14501634 0.14603758 0.12479575 0.13112745 0.11397059 0.1190768\n",
            " 0.12377451 0.13562092 0.12908497 0.13459967 0.12806373 0.13031046\n",
            " 0.12724673 0.13521242 0.14522059 0.15257353 0.14848856 0.14338235\n",
            " 0.14562908 0.15236928 0.15400327 0.14971405 0.1621732  0.16319444\n",
            " 0.16584967 0.1719926  0.17619126 0.1805636 ]\n",
            "3 day output [[0.18486622]]\n",
            "4 day input [0.13541667 0.14011438 0.1380719  0.13071895 0.13071895 0.12867647\n",
            " 0.11846405 0.14644608 0.14808007 0.15910948 0.15992647 0.15788399\n",
            " 0.16441993 0.17892157 0.17933007 0.19260621 0.20812908 0.18974673\n",
            " 0.18055556 0.18239379 0.17708333 0.17810458 0.18055556 0.17810458\n",
            " 0.17851307 0.19607843 0.18913399 0.18954248 0.19403595 0.19444444\n",
            " 0.20200163 0.19771242 0.19934641 0.19873366 0.1997549  0.2128268\n",
            " 0.21568627 0.20445261 0.21772876 0.21098856 0.21425654 0.19750817\n",
            " 0.18811275 0.17851307 0.17381536 0.16033497 0.16564542 0.17116013\n",
            " 0.17422386 0.18035131 0.17401961 0.16278595 0.16973039 0.17810458\n",
            " 0.17034314 0.16830065 0.17279412 0.17544935 0.18382353 0.19138072\n",
            " 0.18913399 0.19097222 0.17238562 0.16830065 0.1693219  0.17177288\n",
            " 0.16156046 0.14971405 0.1503268  0.15196078 0.14726307 0.14501634\n",
            " 0.14603758 0.12479575 0.13112745 0.11397059 0.1190768  0.12377451\n",
            " 0.13562092 0.12908497 0.13459967 0.12806373 0.13031046 0.12724673\n",
            " 0.13521242 0.14522059 0.15257353 0.14848856 0.14338235 0.14562908\n",
            " 0.15236928 0.15400327 0.14971405 0.1621732  0.16319444 0.16584967\n",
            " 0.1719926  0.17619126 0.1805636  0.18486622]\n",
            "4 day output [[0.18903589]]\n",
            "5 day input [0.14011438 0.1380719  0.13071895 0.13071895 0.12867647 0.11846405\n",
            " 0.14644608 0.14808007 0.15910948 0.15992647 0.15788399 0.16441993\n",
            " 0.17892157 0.17933007 0.19260621 0.20812908 0.18974673 0.18055556\n",
            " 0.18239379 0.17708333 0.17810458 0.18055556 0.17810458 0.17851307\n",
            " 0.19607843 0.18913399 0.18954248 0.19403595 0.19444444 0.20200163\n",
            " 0.19771242 0.19934641 0.19873366 0.1997549  0.2128268  0.21568627\n",
            " 0.20445261 0.21772876 0.21098856 0.21425654 0.19750817 0.18811275\n",
            " 0.17851307 0.17381536 0.16033497 0.16564542 0.17116013 0.17422386\n",
            " 0.18035131 0.17401961 0.16278595 0.16973039 0.17810458 0.17034314\n",
            " 0.16830065 0.17279412 0.17544935 0.18382353 0.19138072 0.18913399\n",
            " 0.19097222 0.17238562 0.16830065 0.1693219  0.17177288 0.16156046\n",
            " 0.14971405 0.1503268  0.15196078 0.14726307 0.14501634 0.14603758\n",
            " 0.12479575 0.13112745 0.11397059 0.1190768  0.12377451 0.13562092\n",
            " 0.12908497 0.13459967 0.12806373 0.13031046 0.12724673 0.13521242\n",
            " 0.14522059 0.15257353 0.14848856 0.14338235 0.14562908 0.15236928\n",
            " 0.15400327 0.14971405 0.1621732  0.16319444 0.16584967 0.1719926\n",
            " 0.17619126 0.1805636  0.18486622 0.18903589]\n",
            "5 day output [[0.19307253]]\n",
            "6 day input [0.1380719  0.13071895 0.13071895 0.12867647 0.11846405 0.14644608\n",
            " 0.14808007 0.15910948 0.15992647 0.15788399 0.16441993 0.17892157\n",
            " 0.17933007 0.19260621 0.20812908 0.18974673 0.18055556 0.18239379\n",
            " 0.17708333 0.17810458 0.18055556 0.17810458 0.17851307 0.19607843\n",
            " 0.18913399 0.18954248 0.19403595 0.19444444 0.20200163 0.19771242\n",
            " 0.19934641 0.19873366 0.1997549  0.2128268  0.21568627 0.20445261\n",
            " 0.21772876 0.21098856 0.21425654 0.19750817 0.18811275 0.17851307\n",
            " 0.17381536 0.16033497 0.16564542 0.17116013 0.17422386 0.18035131\n",
            " 0.17401961 0.16278595 0.16973039 0.17810458 0.17034314 0.16830065\n",
            " 0.17279412 0.17544935 0.18382353 0.19138072 0.18913399 0.19097222\n",
            " 0.17238562 0.16830065 0.1693219  0.17177288 0.16156046 0.14971405\n",
            " 0.1503268  0.15196078 0.14726307 0.14501634 0.14603758 0.12479575\n",
            " 0.13112745 0.11397059 0.1190768  0.12377451 0.13562092 0.12908497\n",
            " 0.13459967 0.12806373 0.13031046 0.12724673 0.13521242 0.14522059\n",
            " 0.15257353 0.14848856 0.14338235 0.14562908 0.15236928 0.15400327\n",
            " 0.14971405 0.1621732  0.16319444 0.16584967 0.1719926  0.17619126\n",
            " 0.1805636  0.18486622 0.18903589 0.19307253]\n",
            "6 day output [[0.19699544]]\n",
            "7 day input [0.13071895 0.13071895 0.12867647 0.11846405 0.14644608 0.14808007\n",
            " 0.15910948 0.15992647 0.15788399 0.16441993 0.17892157 0.17933007\n",
            " 0.19260621 0.20812908 0.18974673 0.18055556 0.18239379 0.17708333\n",
            " 0.17810458 0.18055556 0.17810458 0.17851307 0.19607843 0.18913399\n",
            " 0.18954248 0.19403595 0.19444444 0.20200163 0.19771242 0.19934641\n",
            " 0.19873366 0.1997549  0.2128268  0.21568627 0.20445261 0.21772876\n",
            " 0.21098856 0.21425654 0.19750817 0.18811275 0.17851307 0.17381536\n",
            " 0.16033497 0.16564542 0.17116013 0.17422386 0.18035131 0.17401961\n",
            " 0.16278595 0.16973039 0.17810458 0.17034314 0.16830065 0.17279412\n",
            " 0.17544935 0.18382353 0.19138072 0.18913399 0.19097222 0.17238562\n",
            " 0.16830065 0.1693219  0.17177288 0.16156046 0.14971405 0.1503268\n",
            " 0.15196078 0.14726307 0.14501634 0.14603758 0.12479575 0.13112745\n",
            " 0.11397059 0.1190768  0.12377451 0.13562092 0.12908497 0.13459967\n",
            " 0.12806373 0.13031046 0.12724673 0.13521242 0.14522059 0.15257353\n",
            " 0.14848856 0.14338235 0.14562908 0.15236928 0.15400327 0.14971405\n",
            " 0.1621732  0.16319444 0.16584967 0.1719926  0.17619126 0.1805636\n",
            " 0.18486622 0.18903589 0.19307253 0.19699544]\n",
            "7 day output [[0.20083044]]\n",
            "8 day input [0.13071895 0.12867647 0.11846405 0.14644608 0.14808007 0.15910948\n",
            " 0.15992647 0.15788399 0.16441993 0.17892157 0.17933007 0.19260621\n",
            " 0.20812908 0.18974673 0.18055556 0.18239379 0.17708333 0.17810458\n",
            " 0.18055556 0.17810458 0.17851307 0.19607843 0.18913399 0.18954248\n",
            " 0.19403595 0.19444444 0.20200163 0.19771242 0.19934641 0.19873366\n",
            " 0.1997549  0.2128268  0.21568627 0.20445261 0.21772876 0.21098856\n",
            " 0.21425654 0.19750817 0.18811275 0.17851307 0.17381536 0.16033497\n",
            " 0.16564542 0.17116013 0.17422386 0.18035131 0.17401961 0.16278595\n",
            " 0.16973039 0.17810458 0.17034314 0.16830065 0.17279412 0.17544935\n",
            " 0.18382353 0.19138072 0.18913399 0.19097222 0.17238562 0.16830065\n",
            " 0.1693219  0.17177288 0.16156046 0.14971405 0.1503268  0.15196078\n",
            " 0.14726307 0.14501634 0.14603758 0.12479575 0.13112745 0.11397059\n",
            " 0.1190768  0.12377451 0.13562092 0.12908497 0.13459967 0.12806373\n",
            " 0.13031046 0.12724673 0.13521242 0.14522059 0.15257353 0.14848856\n",
            " 0.14338235 0.14562908 0.15236928 0.15400327 0.14971405 0.1621732\n",
            " 0.16319444 0.16584967 0.1719926  0.17619126 0.1805636  0.18486622\n",
            " 0.18903589 0.19307253 0.19699544 0.20083044]\n",
            "8 day output [[0.20460415]]\n",
            "9 day input [0.12867647 0.11846405 0.14644608 0.14808007 0.15910948 0.15992647\n",
            " 0.15788399 0.16441993 0.17892157 0.17933007 0.19260621 0.20812908\n",
            " 0.18974673 0.18055556 0.18239379 0.17708333 0.17810458 0.18055556\n",
            " 0.17810458 0.17851307 0.19607843 0.18913399 0.18954248 0.19403595\n",
            " 0.19444444 0.20200163 0.19771242 0.19934641 0.19873366 0.1997549\n",
            " 0.2128268  0.21568627 0.20445261 0.21772876 0.21098856 0.21425654\n",
            " 0.19750817 0.18811275 0.17851307 0.17381536 0.16033497 0.16564542\n",
            " 0.17116013 0.17422386 0.18035131 0.17401961 0.16278595 0.16973039\n",
            " 0.17810458 0.17034314 0.16830065 0.17279412 0.17544935 0.18382353\n",
            " 0.19138072 0.18913399 0.19097222 0.17238562 0.16830065 0.1693219\n",
            " 0.17177288 0.16156046 0.14971405 0.1503268  0.15196078 0.14726307\n",
            " 0.14501634 0.14603758 0.12479575 0.13112745 0.11397059 0.1190768\n",
            " 0.12377451 0.13562092 0.12908497 0.13459967 0.12806373 0.13031046\n",
            " 0.12724673 0.13521242 0.14522059 0.15257353 0.14848856 0.14338235\n",
            " 0.14562908 0.15236928 0.15400327 0.14971405 0.1621732  0.16319444\n",
            " 0.16584967 0.1719926  0.17619126 0.1805636  0.18486622 0.18903589\n",
            " 0.19307253 0.19699544 0.20083044 0.20460415]\n",
            "9 day output [[0.20834064]]\n",
            "10 day input [0.11846405 0.14644608 0.14808007 0.15910948 0.15992647 0.15788399\n",
            " 0.16441993 0.17892157 0.17933007 0.19260621 0.20812908 0.18974673\n",
            " 0.18055556 0.18239379 0.17708333 0.17810458 0.18055556 0.17810458\n",
            " 0.17851307 0.19607843 0.18913399 0.18954248 0.19403595 0.19444444\n",
            " 0.20200163 0.19771242 0.19934641 0.19873366 0.1997549  0.2128268\n",
            " 0.21568627 0.20445261 0.21772876 0.21098856 0.21425654 0.19750817\n",
            " 0.18811275 0.17851307 0.17381536 0.16033497 0.16564542 0.17116013\n",
            " 0.17422386 0.18035131 0.17401961 0.16278595 0.16973039 0.17810458\n",
            " 0.17034314 0.16830065 0.17279412 0.17544935 0.18382353 0.19138072\n",
            " 0.18913399 0.19097222 0.17238562 0.16830065 0.1693219  0.17177288\n",
            " 0.16156046 0.14971405 0.1503268  0.15196078 0.14726307 0.14501634\n",
            " 0.14603758 0.12479575 0.13112745 0.11397059 0.1190768  0.12377451\n",
            " 0.13562092 0.12908497 0.13459967 0.12806373 0.13031046 0.12724673\n",
            " 0.13521242 0.14522059 0.15257353 0.14848856 0.14338235 0.14562908\n",
            " 0.15236928 0.15400327 0.14971405 0.1621732  0.16319444 0.16584967\n",
            " 0.1719926  0.17619126 0.1805636  0.18486622 0.18903589 0.19307253\n",
            " 0.19699544 0.20083044 0.20460415 0.20834064]\n",
            "10 day output [[0.21205917]]\n",
            "11 day input [0.14644608 0.14808007 0.15910948 0.15992647 0.15788399 0.16441993\n",
            " 0.17892157 0.17933007 0.19260621 0.20812908 0.18974673 0.18055556\n",
            " 0.18239379 0.17708333 0.17810458 0.18055556 0.17810458 0.17851307\n",
            " 0.19607843 0.18913399 0.18954248 0.19403595 0.19444444 0.20200163\n",
            " 0.19771242 0.19934641 0.19873366 0.1997549  0.2128268  0.21568627\n",
            " 0.20445261 0.21772876 0.21098856 0.21425654 0.19750817 0.18811275\n",
            " 0.17851307 0.17381536 0.16033497 0.16564542 0.17116013 0.17422386\n",
            " 0.18035131 0.17401961 0.16278595 0.16973039 0.17810458 0.17034314\n",
            " 0.16830065 0.17279412 0.17544935 0.18382353 0.19138072 0.18913399\n",
            " 0.19097222 0.17238562 0.16830065 0.1693219  0.17177288 0.16156046\n",
            " 0.14971405 0.1503268  0.15196078 0.14726307 0.14501634 0.14603758\n",
            " 0.12479575 0.13112745 0.11397059 0.1190768  0.12377451 0.13562092\n",
            " 0.12908497 0.13459967 0.12806373 0.13031046 0.12724673 0.13521242\n",
            " 0.14522059 0.15257353 0.14848856 0.14338235 0.14562908 0.15236928\n",
            " 0.15400327 0.14971405 0.1621732  0.16319444 0.16584967 0.1719926\n",
            " 0.17619126 0.1805636  0.18486622 0.18903589 0.19307253 0.19699544\n",
            " 0.20083044 0.20460415 0.20834064 0.21205917]\n",
            "11 day output [[0.21577352]]\n",
            "12 day input [0.14808007 0.15910948 0.15992647 0.15788399 0.16441993 0.17892157\n",
            " 0.17933007 0.19260621 0.20812908 0.18974673 0.18055556 0.18239379\n",
            " 0.17708333 0.17810458 0.18055556 0.17810458 0.17851307 0.19607843\n",
            " 0.18913399 0.18954248 0.19403595 0.19444444 0.20200163 0.19771242\n",
            " 0.19934641 0.19873366 0.1997549  0.2128268  0.21568627 0.20445261\n",
            " 0.21772876 0.21098856 0.21425654 0.19750817 0.18811275 0.17851307\n",
            " 0.17381536 0.16033497 0.16564542 0.17116013 0.17422386 0.18035131\n",
            " 0.17401961 0.16278595 0.16973039 0.17810458 0.17034314 0.16830065\n",
            " 0.17279412 0.17544935 0.18382353 0.19138072 0.18913399 0.19097222\n",
            " 0.17238562 0.16830065 0.1693219  0.17177288 0.16156046 0.14971405\n",
            " 0.1503268  0.15196078 0.14726307 0.14501634 0.14603758 0.12479575\n",
            " 0.13112745 0.11397059 0.1190768  0.12377451 0.13562092 0.12908497\n",
            " 0.13459967 0.12806373 0.13031046 0.12724673 0.13521242 0.14522059\n",
            " 0.15257353 0.14848856 0.14338235 0.14562908 0.15236928 0.15400327\n",
            " 0.14971405 0.1621732  0.16319444 0.16584967 0.1719926  0.17619126\n",
            " 0.1805636  0.18486622 0.18903589 0.19307253 0.19699544 0.20083044\n",
            " 0.20460415 0.20834064 0.21205917 0.21577352]\n",
            "12 day output [[0.21949229]]\n",
            "13 day input [0.15910948 0.15992647 0.15788399 0.16441993 0.17892157 0.17933007\n",
            " 0.19260621 0.20812908 0.18974673 0.18055556 0.18239379 0.17708333\n",
            " 0.17810458 0.18055556 0.17810458 0.17851307 0.19607843 0.18913399\n",
            " 0.18954248 0.19403595 0.19444444 0.20200163 0.19771242 0.19934641\n",
            " 0.19873366 0.1997549  0.2128268  0.21568627 0.20445261 0.21772876\n",
            " 0.21098856 0.21425654 0.19750817 0.18811275 0.17851307 0.17381536\n",
            " 0.16033497 0.16564542 0.17116013 0.17422386 0.18035131 0.17401961\n",
            " 0.16278595 0.16973039 0.17810458 0.17034314 0.16830065 0.17279412\n",
            " 0.17544935 0.18382353 0.19138072 0.18913399 0.19097222 0.17238562\n",
            " 0.16830065 0.1693219  0.17177288 0.16156046 0.14971405 0.1503268\n",
            " 0.15196078 0.14726307 0.14501634 0.14603758 0.12479575 0.13112745\n",
            " 0.11397059 0.1190768  0.12377451 0.13562092 0.12908497 0.13459967\n",
            " 0.12806373 0.13031046 0.12724673 0.13521242 0.14522059 0.15257353\n",
            " 0.14848856 0.14338235 0.14562908 0.15236928 0.15400327 0.14971405\n",
            " 0.1621732  0.16319444 0.16584967 0.1719926  0.17619126 0.1805636\n",
            " 0.18486622 0.18903589 0.19307253 0.19699544 0.20083044 0.20460415\n",
            " 0.20834064 0.21205917 0.21577352 0.21949229]\n",
            "13 day output [[0.22322011]]\n",
            "14 day input [0.15992647 0.15788399 0.16441993 0.17892157 0.17933007 0.19260621\n",
            " 0.20812908 0.18974673 0.18055556 0.18239379 0.17708333 0.17810458\n",
            " 0.18055556 0.17810458 0.17851307 0.19607843 0.18913399 0.18954248\n",
            " 0.19403595 0.19444444 0.20200163 0.19771242 0.19934641 0.19873366\n",
            " 0.1997549  0.2128268  0.21568627 0.20445261 0.21772876 0.21098856\n",
            " 0.21425654 0.19750817 0.18811275 0.17851307 0.17381536 0.16033497\n",
            " 0.16564542 0.17116013 0.17422386 0.18035131 0.17401961 0.16278595\n",
            " 0.16973039 0.17810458 0.17034314 0.16830065 0.17279412 0.17544935\n",
            " 0.18382353 0.19138072 0.18913399 0.19097222 0.17238562 0.16830065\n",
            " 0.1693219  0.17177288 0.16156046 0.14971405 0.1503268  0.15196078\n",
            " 0.14726307 0.14501634 0.14603758 0.12479575 0.13112745 0.11397059\n",
            " 0.1190768  0.12377451 0.13562092 0.12908497 0.13459967 0.12806373\n",
            " 0.13031046 0.12724673 0.13521242 0.14522059 0.15257353 0.14848856\n",
            " 0.14338235 0.14562908 0.15236928 0.15400327 0.14971405 0.1621732\n",
            " 0.16319444 0.16584967 0.1719926  0.17619126 0.1805636  0.18486622\n",
            " 0.18903589 0.19307253 0.19699544 0.20083044 0.20460415 0.20834064\n",
            " 0.21205917 0.21577352 0.21949229 0.22322011]\n",
            "14 day output [[0.22695848]]\n",
            "15 day input [0.15788399 0.16441993 0.17892157 0.17933007 0.19260621 0.20812908\n",
            " 0.18974673 0.18055556 0.18239379 0.17708333 0.17810458 0.18055556\n",
            " 0.17810458 0.17851307 0.19607843 0.18913399 0.18954248 0.19403595\n",
            " 0.19444444 0.20200163 0.19771242 0.19934641 0.19873366 0.1997549\n",
            " 0.2128268  0.21568627 0.20445261 0.21772876 0.21098856 0.21425654\n",
            " 0.19750817 0.18811275 0.17851307 0.17381536 0.16033497 0.16564542\n",
            " 0.17116013 0.17422386 0.18035131 0.17401961 0.16278595 0.16973039\n",
            " 0.17810458 0.17034314 0.16830065 0.17279412 0.17544935 0.18382353\n",
            " 0.19138072 0.18913399 0.19097222 0.17238562 0.16830065 0.1693219\n",
            " 0.17177288 0.16156046 0.14971405 0.1503268  0.15196078 0.14726307\n",
            " 0.14501634 0.14603758 0.12479575 0.13112745 0.11397059 0.1190768\n",
            " 0.12377451 0.13562092 0.12908497 0.13459967 0.12806373 0.13031046\n",
            " 0.12724673 0.13521242 0.14522059 0.15257353 0.14848856 0.14338235\n",
            " 0.14562908 0.15236928 0.15400327 0.14971405 0.1621732  0.16319444\n",
            " 0.16584967 0.1719926  0.17619126 0.1805636  0.18486622 0.18903589\n",
            " 0.19307253 0.19699544 0.20083044 0.20460415 0.20834064 0.21205917\n",
            " 0.21577352 0.21949229 0.22322011 0.22695848]\n",
            "15 day output [[0.2307075]]\n",
            "16 day input [0.16441993 0.17892157 0.17933007 0.19260621 0.20812908 0.18974673\n",
            " 0.18055556 0.18239379 0.17708333 0.17810458 0.18055556 0.17810458\n",
            " 0.17851307 0.19607843 0.18913399 0.18954248 0.19403595 0.19444444\n",
            " 0.20200163 0.19771242 0.19934641 0.19873366 0.1997549  0.2128268\n",
            " 0.21568627 0.20445261 0.21772876 0.21098856 0.21425654 0.19750817\n",
            " 0.18811275 0.17851307 0.17381536 0.16033497 0.16564542 0.17116013\n",
            " 0.17422386 0.18035131 0.17401961 0.16278595 0.16973039 0.17810458\n",
            " 0.17034314 0.16830065 0.17279412 0.17544935 0.18382353 0.19138072\n",
            " 0.18913399 0.19097222 0.17238562 0.16830065 0.1693219  0.17177288\n",
            " 0.16156046 0.14971405 0.1503268  0.15196078 0.14726307 0.14501634\n",
            " 0.14603758 0.12479575 0.13112745 0.11397059 0.1190768  0.12377451\n",
            " 0.13562092 0.12908497 0.13459967 0.12806373 0.13031046 0.12724673\n",
            " 0.13521242 0.14522059 0.15257353 0.14848856 0.14338235 0.14562908\n",
            " 0.15236928 0.15400327 0.14971405 0.1621732  0.16319444 0.16584967\n",
            " 0.1719926  0.17619126 0.1805636  0.18486622 0.18903589 0.19307253\n",
            " 0.19699544 0.20083044 0.20460415 0.20834064 0.21205917 0.21577352\n",
            " 0.21949229 0.22322011 0.22695848 0.2307075 ]\n",
            "16 day output [[0.23446654]]\n",
            "17 day input [0.17892157 0.17933007 0.19260621 0.20812908 0.18974673 0.18055556\n",
            " 0.18239379 0.17708333 0.17810458 0.18055556 0.17810458 0.17851307\n",
            " 0.19607843 0.18913399 0.18954248 0.19403595 0.19444444 0.20200163\n",
            " 0.19771242 0.19934641 0.19873366 0.1997549  0.2128268  0.21568627\n",
            " 0.20445261 0.21772876 0.21098856 0.21425654 0.19750817 0.18811275\n",
            " 0.17851307 0.17381536 0.16033497 0.16564542 0.17116013 0.17422386\n",
            " 0.18035131 0.17401961 0.16278595 0.16973039 0.17810458 0.17034314\n",
            " 0.16830065 0.17279412 0.17544935 0.18382353 0.19138072 0.18913399\n",
            " 0.19097222 0.17238562 0.16830065 0.1693219  0.17177288 0.16156046\n",
            " 0.14971405 0.1503268  0.15196078 0.14726307 0.14501634 0.14603758\n",
            " 0.12479575 0.13112745 0.11397059 0.1190768  0.12377451 0.13562092\n",
            " 0.12908497 0.13459967 0.12806373 0.13031046 0.12724673 0.13521242\n",
            " 0.14522059 0.15257353 0.14848856 0.14338235 0.14562908 0.15236928\n",
            " 0.15400327 0.14971405 0.1621732  0.16319444 0.16584967 0.1719926\n",
            " 0.17619126 0.1805636  0.18486622 0.18903589 0.19307253 0.19699544\n",
            " 0.20083044 0.20460415 0.20834064 0.21205917 0.21577352 0.21949229\n",
            " 0.22322011 0.22695848 0.2307075  0.23446654]\n",
            "17 day output [[0.23823531]]\n",
            "18 day input [0.17933007 0.19260621 0.20812908 0.18974673 0.18055556 0.18239379\n",
            " 0.17708333 0.17810458 0.18055556 0.17810458 0.17851307 0.19607843\n",
            " 0.18913399 0.18954248 0.19403595 0.19444444 0.20200163 0.19771242\n",
            " 0.19934641 0.19873366 0.1997549  0.2128268  0.21568627 0.20445261\n",
            " 0.21772876 0.21098856 0.21425654 0.19750817 0.18811275 0.17851307\n",
            " 0.17381536 0.16033497 0.16564542 0.17116013 0.17422386 0.18035131\n",
            " 0.17401961 0.16278595 0.16973039 0.17810458 0.17034314 0.16830065\n",
            " 0.17279412 0.17544935 0.18382353 0.19138072 0.18913399 0.19097222\n",
            " 0.17238562 0.16830065 0.1693219  0.17177288 0.16156046 0.14971405\n",
            " 0.1503268  0.15196078 0.14726307 0.14501634 0.14603758 0.12479575\n",
            " 0.13112745 0.11397059 0.1190768  0.12377451 0.13562092 0.12908497\n",
            " 0.13459967 0.12806373 0.13031046 0.12724673 0.13521242 0.14522059\n",
            " 0.15257353 0.14848856 0.14338235 0.14562908 0.15236928 0.15400327\n",
            " 0.14971405 0.1621732  0.16319444 0.16584967 0.1719926  0.17619126\n",
            " 0.1805636  0.18486622 0.18903589 0.19307253 0.19699544 0.20083044\n",
            " 0.20460415 0.20834064 0.21205917 0.21577352 0.21949229 0.22322011\n",
            " 0.22695848 0.2307075  0.23446654 0.23823531]\n",
            "18 day output [[0.24201412]]\n",
            "19 day input [0.19260621 0.20812908 0.18974673 0.18055556 0.18239379 0.17708333\n",
            " 0.17810458 0.18055556 0.17810458 0.17851307 0.19607843 0.18913399\n",
            " 0.18954248 0.19403595 0.19444444 0.20200163 0.19771242 0.19934641\n",
            " 0.19873366 0.1997549  0.2128268  0.21568627 0.20445261 0.21772876\n",
            " 0.21098856 0.21425654 0.19750817 0.18811275 0.17851307 0.17381536\n",
            " 0.16033497 0.16564542 0.17116013 0.17422386 0.18035131 0.17401961\n",
            " 0.16278595 0.16973039 0.17810458 0.17034314 0.16830065 0.17279412\n",
            " 0.17544935 0.18382353 0.19138072 0.18913399 0.19097222 0.17238562\n",
            " 0.16830065 0.1693219  0.17177288 0.16156046 0.14971405 0.1503268\n",
            " 0.15196078 0.14726307 0.14501634 0.14603758 0.12479575 0.13112745\n",
            " 0.11397059 0.1190768  0.12377451 0.13562092 0.12908497 0.13459967\n",
            " 0.12806373 0.13031046 0.12724673 0.13521242 0.14522059 0.15257353\n",
            " 0.14848856 0.14338235 0.14562908 0.15236928 0.15400327 0.14971405\n",
            " 0.1621732  0.16319444 0.16584967 0.1719926  0.17619126 0.1805636\n",
            " 0.18486622 0.18903589 0.19307253 0.19699544 0.20083044 0.20460415\n",
            " 0.20834064 0.21205917 0.21577352 0.21949229 0.22322011 0.22695848\n",
            " 0.2307075  0.23446654 0.23823531 0.24201412]\n",
            "19 day output [[0.24580434]]\n",
            "20 day input [0.20812908 0.18974673 0.18055556 0.18239379 0.17708333 0.17810458\n",
            " 0.18055556 0.17810458 0.17851307 0.19607843 0.18913399 0.18954248\n",
            " 0.19403595 0.19444444 0.20200163 0.19771242 0.19934641 0.19873366\n",
            " 0.1997549  0.2128268  0.21568627 0.20445261 0.21772876 0.21098856\n",
            " 0.21425654 0.19750817 0.18811275 0.17851307 0.17381536 0.16033497\n",
            " 0.16564542 0.17116013 0.17422386 0.18035131 0.17401961 0.16278595\n",
            " 0.16973039 0.17810458 0.17034314 0.16830065 0.17279412 0.17544935\n",
            " 0.18382353 0.19138072 0.18913399 0.19097222 0.17238562 0.16830065\n",
            " 0.1693219  0.17177288 0.16156046 0.14971405 0.1503268  0.15196078\n",
            " 0.14726307 0.14501634 0.14603758 0.12479575 0.13112745 0.11397059\n",
            " 0.1190768  0.12377451 0.13562092 0.12908497 0.13459967 0.12806373\n",
            " 0.13031046 0.12724673 0.13521242 0.14522059 0.15257353 0.14848856\n",
            " 0.14338235 0.14562908 0.15236928 0.15400327 0.14971405 0.1621732\n",
            " 0.16319444 0.16584967 0.1719926  0.17619126 0.1805636  0.18486622\n",
            " 0.18903589 0.19307253 0.19699544 0.20083044 0.20460415 0.20834064\n",
            " 0.21205917 0.21577352 0.21949229 0.22322011 0.22695848 0.2307075\n",
            " 0.23446654 0.23823531 0.24201412 0.24580434]\n",
            "20 day output [[0.24960808]]\n",
            "21 day input [0.18974673 0.18055556 0.18239379 0.17708333 0.17810458 0.18055556\n",
            " 0.17810458 0.17851307 0.19607843 0.18913399 0.18954248 0.19403595\n",
            " 0.19444444 0.20200163 0.19771242 0.19934641 0.19873366 0.1997549\n",
            " 0.2128268  0.21568627 0.20445261 0.21772876 0.21098856 0.21425654\n",
            " 0.19750817 0.18811275 0.17851307 0.17381536 0.16033497 0.16564542\n",
            " 0.17116013 0.17422386 0.18035131 0.17401961 0.16278595 0.16973039\n",
            " 0.17810458 0.17034314 0.16830065 0.17279412 0.17544935 0.18382353\n",
            " 0.19138072 0.18913399 0.19097222 0.17238562 0.16830065 0.1693219\n",
            " 0.17177288 0.16156046 0.14971405 0.1503268  0.15196078 0.14726307\n",
            " 0.14501634 0.14603758 0.12479575 0.13112745 0.11397059 0.1190768\n",
            " 0.12377451 0.13562092 0.12908497 0.13459967 0.12806373 0.13031046\n",
            " 0.12724673 0.13521242 0.14522059 0.15257353 0.14848856 0.14338235\n",
            " 0.14562908 0.15236928 0.15400327 0.14971405 0.1621732  0.16319444\n",
            " 0.16584967 0.1719926  0.17619126 0.1805636  0.18486622 0.18903589\n",
            " 0.19307253 0.19699544 0.20083044 0.20460415 0.20834064 0.21205917\n",
            " 0.21577352 0.21949229 0.22322011 0.22695848 0.2307075  0.23446654\n",
            " 0.23823531 0.24201412 0.24580434 0.24960808]\n",
            "21 day output [[0.2534281]]\n",
            "22 day input [0.18055556 0.18239379 0.17708333 0.17810458 0.18055556 0.17810458\n",
            " 0.17851307 0.19607843 0.18913399 0.18954248 0.19403595 0.19444444\n",
            " 0.20200163 0.19771242 0.19934641 0.19873366 0.1997549  0.2128268\n",
            " 0.21568627 0.20445261 0.21772876 0.21098856 0.21425654 0.19750817\n",
            " 0.18811275 0.17851307 0.17381536 0.16033497 0.16564542 0.17116013\n",
            " 0.17422386 0.18035131 0.17401961 0.16278595 0.16973039 0.17810458\n",
            " 0.17034314 0.16830065 0.17279412 0.17544935 0.18382353 0.19138072\n",
            " 0.18913399 0.19097222 0.17238562 0.16830065 0.1693219  0.17177288\n",
            " 0.16156046 0.14971405 0.1503268  0.15196078 0.14726307 0.14501634\n",
            " 0.14603758 0.12479575 0.13112745 0.11397059 0.1190768  0.12377451\n",
            " 0.13562092 0.12908497 0.13459967 0.12806373 0.13031046 0.12724673\n",
            " 0.13521242 0.14522059 0.15257353 0.14848856 0.14338235 0.14562908\n",
            " 0.15236928 0.15400327 0.14971405 0.1621732  0.16319444 0.16584967\n",
            " 0.1719926  0.17619126 0.1805636  0.18486622 0.18903589 0.19307253\n",
            " 0.19699544 0.20083044 0.20460415 0.20834064 0.21205917 0.21577352\n",
            " 0.21949229 0.22322011 0.22695848 0.2307075  0.23446654 0.23823531\n",
            " 0.24201412 0.24580434 0.24960808 0.2534281 ]\n",
            "22 day output [[0.2572676]]\n",
            "23 day input [0.18239379 0.17708333 0.17810458 0.18055556 0.17810458 0.17851307\n",
            " 0.19607843 0.18913399 0.18954248 0.19403595 0.19444444 0.20200163\n",
            " 0.19771242 0.19934641 0.19873366 0.1997549  0.2128268  0.21568627\n",
            " 0.20445261 0.21772876 0.21098856 0.21425654 0.19750817 0.18811275\n",
            " 0.17851307 0.17381536 0.16033497 0.16564542 0.17116013 0.17422386\n",
            " 0.18035131 0.17401961 0.16278595 0.16973039 0.17810458 0.17034314\n",
            " 0.16830065 0.17279412 0.17544935 0.18382353 0.19138072 0.18913399\n",
            " 0.19097222 0.17238562 0.16830065 0.1693219  0.17177288 0.16156046\n",
            " 0.14971405 0.1503268  0.15196078 0.14726307 0.14501634 0.14603758\n",
            " 0.12479575 0.13112745 0.11397059 0.1190768  0.12377451 0.13562092\n",
            " 0.12908497 0.13459967 0.12806373 0.13031046 0.12724673 0.13521242\n",
            " 0.14522059 0.15257353 0.14848856 0.14338235 0.14562908 0.15236928\n",
            " 0.15400327 0.14971405 0.1621732  0.16319444 0.16584967 0.1719926\n",
            " 0.17619126 0.1805636  0.18486622 0.18903589 0.19307253 0.19699544\n",
            " 0.20083044 0.20460415 0.20834064 0.21205917 0.21577352 0.21949229\n",
            " 0.22322011 0.22695848 0.2307075  0.23446654 0.23823531 0.24201412\n",
            " 0.24580434 0.24960808 0.2534281  0.25726759]\n",
            "23 day output [[0.26113003]]\n",
            "24 day input [0.17708333 0.17810458 0.18055556 0.17810458 0.17851307 0.19607843\n",
            " 0.18913399 0.18954248 0.19403595 0.19444444 0.20200163 0.19771242\n",
            " 0.19934641 0.19873366 0.1997549  0.2128268  0.21568627 0.20445261\n",
            " 0.21772876 0.21098856 0.21425654 0.19750817 0.18811275 0.17851307\n",
            " 0.17381536 0.16033497 0.16564542 0.17116013 0.17422386 0.18035131\n",
            " 0.17401961 0.16278595 0.16973039 0.17810458 0.17034314 0.16830065\n",
            " 0.17279412 0.17544935 0.18382353 0.19138072 0.18913399 0.19097222\n",
            " 0.17238562 0.16830065 0.1693219  0.17177288 0.16156046 0.14971405\n",
            " 0.1503268  0.15196078 0.14726307 0.14501634 0.14603758 0.12479575\n",
            " 0.13112745 0.11397059 0.1190768  0.12377451 0.13562092 0.12908497\n",
            " 0.13459967 0.12806373 0.13031046 0.12724673 0.13521242 0.14522059\n",
            " 0.15257353 0.14848856 0.14338235 0.14562908 0.15236928 0.15400327\n",
            " 0.14971405 0.1621732  0.16319444 0.16584967 0.1719926  0.17619126\n",
            " 0.1805636  0.18486622 0.18903589 0.19307253 0.19699544 0.20083044\n",
            " 0.20460415 0.20834064 0.21205917 0.21577352 0.21949229 0.22322011\n",
            " 0.22695848 0.2307075  0.23446654 0.23823531 0.24201412 0.24580434\n",
            " 0.24960808 0.2534281  0.25726759 0.26113003]\n",
            "24 day output [[0.265019]]\n",
            "25 day input [0.17810458 0.18055556 0.17810458 0.17851307 0.19607843 0.18913399\n",
            " 0.18954248 0.19403595 0.19444444 0.20200163 0.19771242 0.19934641\n",
            " 0.19873366 0.1997549  0.2128268  0.21568627 0.20445261 0.21772876\n",
            " 0.21098856 0.21425654 0.19750817 0.18811275 0.17851307 0.17381536\n",
            " 0.16033497 0.16564542 0.17116013 0.17422386 0.18035131 0.17401961\n",
            " 0.16278595 0.16973039 0.17810458 0.17034314 0.16830065 0.17279412\n",
            " 0.17544935 0.18382353 0.19138072 0.18913399 0.19097222 0.17238562\n",
            " 0.16830065 0.1693219  0.17177288 0.16156046 0.14971405 0.1503268\n",
            " 0.15196078 0.14726307 0.14501634 0.14603758 0.12479575 0.13112745\n",
            " 0.11397059 0.1190768  0.12377451 0.13562092 0.12908497 0.13459967\n",
            " 0.12806373 0.13031046 0.12724673 0.13521242 0.14522059 0.15257353\n",
            " 0.14848856 0.14338235 0.14562908 0.15236928 0.15400327 0.14971405\n",
            " 0.1621732  0.16319444 0.16584967 0.1719926  0.17619126 0.1805636\n",
            " 0.18486622 0.18903589 0.19307253 0.19699544 0.20083044 0.20460415\n",
            " 0.20834064 0.21205917 0.21577352 0.21949229 0.22322011 0.22695848\n",
            " 0.2307075  0.23446654 0.23823531 0.24201412 0.24580434 0.24960808\n",
            " 0.2534281  0.25726759 0.26113003 0.265019  ]\n",
            "25 day output [[0.26893774]]\n",
            "26 day input [0.18055556 0.17810458 0.17851307 0.19607843 0.18913399 0.18954248\n",
            " 0.19403595 0.19444444 0.20200163 0.19771242 0.19934641 0.19873366\n",
            " 0.1997549  0.2128268  0.21568627 0.20445261 0.21772876 0.21098856\n",
            " 0.21425654 0.19750817 0.18811275 0.17851307 0.17381536 0.16033497\n",
            " 0.16564542 0.17116013 0.17422386 0.18035131 0.17401961 0.16278595\n",
            " 0.16973039 0.17810458 0.17034314 0.16830065 0.17279412 0.17544935\n",
            " 0.18382353 0.19138072 0.18913399 0.19097222 0.17238562 0.16830065\n",
            " 0.1693219  0.17177288 0.16156046 0.14971405 0.1503268  0.15196078\n",
            " 0.14726307 0.14501634 0.14603758 0.12479575 0.13112745 0.11397059\n",
            " 0.1190768  0.12377451 0.13562092 0.12908497 0.13459967 0.12806373\n",
            " 0.13031046 0.12724673 0.13521242 0.14522059 0.15257353 0.14848856\n",
            " 0.14338235 0.14562908 0.15236928 0.15400327 0.14971405 0.1621732\n",
            " 0.16319444 0.16584967 0.1719926  0.17619126 0.1805636  0.18486622\n",
            " 0.18903589 0.19307253 0.19699544 0.20083044 0.20460415 0.20834064\n",
            " 0.21205917 0.21577352 0.21949229 0.22322011 0.22695848 0.2307075\n",
            " 0.23446654 0.23823531 0.24201412 0.24580434 0.24960808 0.2534281\n",
            " 0.25726759 0.26113003 0.265019   0.26893774]\n",
            "26 day output [[0.27288923]]\n",
            "27 day input [0.17810458 0.17851307 0.19607843 0.18913399 0.18954248 0.19403595\n",
            " 0.19444444 0.20200163 0.19771242 0.19934641 0.19873366 0.1997549\n",
            " 0.2128268  0.21568627 0.20445261 0.21772876 0.21098856 0.21425654\n",
            " 0.19750817 0.18811275 0.17851307 0.17381536 0.16033497 0.16564542\n",
            " 0.17116013 0.17422386 0.18035131 0.17401961 0.16278595 0.16973039\n",
            " 0.17810458 0.17034314 0.16830065 0.17279412 0.17544935 0.18382353\n",
            " 0.19138072 0.18913399 0.19097222 0.17238562 0.16830065 0.1693219\n",
            " 0.17177288 0.16156046 0.14971405 0.1503268  0.15196078 0.14726307\n",
            " 0.14501634 0.14603758 0.12479575 0.13112745 0.11397059 0.1190768\n",
            " 0.12377451 0.13562092 0.12908497 0.13459967 0.12806373 0.13031046\n",
            " 0.12724673 0.13521242 0.14522059 0.15257353 0.14848856 0.14338235\n",
            " 0.14562908 0.15236928 0.15400327 0.14971405 0.1621732  0.16319444\n",
            " 0.16584967 0.1719926  0.17619126 0.1805636  0.18486622 0.18903589\n",
            " 0.19307253 0.19699544 0.20083044 0.20460415 0.20834064 0.21205917\n",
            " 0.21577352 0.21949229 0.22322011 0.22695848 0.2307075  0.23446654\n",
            " 0.23823531 0.24201412 0.24580434 0.24960808 0.2534281  0.25726759\n",
            " 0.26113003 0.265019   0.26893774 0.27288923]\n",
            "27 day output [[0.27687663]]\n",
            "28 day input [0.17851307 0.19607843 0.18913399 0.18954248 0.19403595 0.19444444\n",
            " 0.20200163 0.19771242 0.19934641 0.19873366 0.1997549  0.2128268\n",
            " 0.21568627 0.20445261 0.21772876 0.21098856 0.21425654 0.19750817\n",
            " 0.18811275 0.17851307 0.17381536 0.16033497 0.16564542 0.17116013\n",
            " 0.17422386 0.18035131 0.17401961 0.16278595 0.16973039 0.17810458\n",
            " 0.17034314 0.16830065 0.17279412 0.17544935 0.18382353 0.19138072\n",
            " 0.18913399 0.19097222 0.17238562 0.16830065 0.1693219  0.17177288\n",
            " 0.16156046 0.14971405 0.1503268  0.15196078 0.14726307 0.14501634\n",
            " 0.14603758 0.12479575 0.13112745 0.11397059 0.1190768  0.12377451\n",
            " 0.13562092 0.12908497 0.13459967 0.12806373 0.13031046 0.12724673\n",
            " 0.13521242 0.14522059 0.15257353 0.14848856 0.14338235 0.14562908\n",
            " 0.15236928 0.15400327 0.14971405 0.1621732  0.16319444 0.16584967\n",
            " 0.1719926  0.17619126 0.1805636  0.18486622 0.18903589 0.19307253\n",
            " 0.19699544 0.20083044 0.20460415 0.20834064 0.21205917 0.21577352\n",
            " 0.21949229 0.22322011 0.22695848 0.2307075  0.23446654 0.23823531\n",
            " 0.24201412 0.24580434 0.24960808 0.2534281  0.25726759 0.26113003\n",
            " 0.265019   0.26893774 0.27288923 0.27687663]\n",
            "28 day output [[0.28090236]]\n",
            "29 day input [0.19607843 0.18913399 0.18954248 0.19403595 0.19444444 0.20200163\n",
            " 0.19771242 0.19934641 0.19873366 0.1997549  0.2128268  0.21568627\n",
            " 0.20445261 0.21772876 0.21098856 0.21425654 0.19750817 0.18811275\n",
            " 0.17851307 0.17381536 0.16033497 0.16564542 0.17116013 0.17422386\n",
            " 0.18035131 0.17401961 0.16278595 0.16973039 0.17810458 0.17034314\n",
            " 0.16830065 0.17279412 0.17544935 0.18382353 0.19138072 0.18913399\n",
            " 0.19097222 0.17238562 0.16830065 0.1693219  0.17177288 0.16156046\n",
            " 0.14971405 0.1503268  0.15196078 0.14726307 0.14501634 0.14603758\n",
            " 0.12479575 0.13112745 0.11397059 0.1190768  0.12377451 0.13562092\n",
            " 0.12908497 0.13459967 0.12806373 0.13031046 0.12724673 0.13521242\n",
            " 0.14522059 0.15257353 0.14848856 0.14338235 0.14562908 0.15236928\n",
            " 0.15400327 0.14971405 0.1621732  0.16319444 0.16584967 0.1719926\n",
            " 0.17619126 0.1805636  0.18486622 0.18903589 0.19307253 0.19699544\n",
            " 0.20083044 0.20460415 0.20834064 0.21205917 0.21577352 0.21949229\n",
            " 0.22322011 0.22695848 0.2307075  0.23446654 0.23823531 0.24201412\n",
            " 0.24580434 0.24960808 0.2534281  0.25726759 0.26113003 0.265019\n",
            " 0.26893774 0.27288923 0.27687663 0.28090236]\n",
            "29 day output [[0.2849691]]\n",
            "[[0.17199259996414185], [0.17619125545024872], [0.18056359887123108], [0.18486621975898743], [0.18903589248657227], [0.19307252764701843], [0.19699543714523315], [0.20083044469356537], [0.2046041488647461], [0.20834064483642578], [0.2120591700077057], [0.21577352285385132], [0.21949228644371033], [0.2232201099395752], [0.2269584834575653], [0.23070749640464783], [0.2344665378332138], [0.23823530972003937], [0.24201412498950958], [0.2458043396472931], [0.2496080845594406], [0.2534281015396118], [0.2572675943374634], [0.26113003492355347], [0.2650189995765686], [0.26893773674964905], [0.27288922667503357], [0.27687662839889526], [0.28090235590934753], [0.2849690914154053]]\n"
          ]
        }
      ]
    },
    {
      "cell_type": "code",
      "metadata": {
        "id": "7cb4M3zNWTFF"
      },
      "source": [
        "day_new = np.arange(1,101)\n",
        "day_pred = np.arange(101,131)"
      ],
      "execution_count": 31,
      "outputs": []
    },
    {
      "cell_type": "code",
      "metadata": {
        "id": "0GKdbOvlWTFF"
      },
      "source": [
        "df3 = data_close.tolist()\n",
        "df3.extend(lst_output)"
      ],
      "execution_count": 32,
      "outputs": []
    },
    {
      "cell_type": "code",
      "metadata": {
        "id": "iKs66gMbWTFG",
        "colab": {
          "base_uri": "https://localhost:8080/"
        },
        "outputId": "6f7a6da4-b736-45ff-d1d8-af77838c0d0b"
      },
      "source": [
        "len(data_close)"
      ],
      "execution_count": 33,
      "outputs": [
        {
          "output_type": "execute_result",
          "data": {
            "text/plain": [
              "2035"
            ]
          },
          "metadata": {},
          "execution_count": 33
        }
      ]
    },
    {
      "cell_type": "code",
      "metadata": {
        "id": "tylVkCRwWTFG",
        "colab": {
          "base_uri": "https://localhost:8080/",
          "height": 282
        },
        "outputId": "e152511b-8971-492a-c73b-1527c4e468df"
      },
      "source": [
        "plt.plot(day_new, scaler.inverse_transform(data_close[1935:]))\n",
        "plt.plot(day_pred, scaler.inverse_transform(lst_output))"
      ],
      "execution_count": 34,
      "outputs": [
        {
          "output_type": "execute_result",
          "data": {
            "text/plain": [
              "[<matplotlib.lines.Line2D at 0x7f79f409d8d0>]"
            ]
          },
          "metadata": {},
          "execution_count": 34
        },
        {
          "output_type": "display_data",
          "data": {
            "image/png": "[encoded data removed]",
            "text/plain": [
              "<Figure size 432x288 with 1 Axes>"
            ]
          },
          "metadata": {
            "needs_background": "light"
          }
        }
      ]
    }
  ]
}